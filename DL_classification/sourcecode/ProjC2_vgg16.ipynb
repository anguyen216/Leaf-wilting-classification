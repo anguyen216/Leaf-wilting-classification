{
  "nbformat": 4,
  "nbformat_minor": 0,
  "metadata": {
    "colab": {
      "name": "ProjectC2_vgg16_HUE.ipynb",
      "provenance": [],
      "collapsed_sections": [],
      "machine_shape": "hm"
    },
    "kernelspec": {
      "name": "python3",
      "display_name": "Python 3"
    },
    "accelerator": "TPU"
  },
  "cells": [
    {
      "cell_type": "code",
      "metadata": {
        "id": "FE1ADb1T_uQm",
        "colab_type": "code",
        "outputId": "0f54d986-5184-43da-d688-53dccfc5139f",
        "colab": {
          "base_uri": "https://localhost:8080/",
          "height": 124
        }
      },
      "source": [
        "import pandas as pd\n",
        "import numpy as np \n",
        "import matplotlib.pyplot as plt\n",
        "from google.colab import drive\n",
        "%matplotlib inline\n",
        "from skimage import io, color\n",
        "from skimage.transform import resize\n",
        "from sklearn.model_selection import train_test_split\n",
        "from sklearn.utils import class_weight\n",
        "\n",
        "import tensorflow as tf  \n",
        "from keras.utils import to_categorical\n",
        "import glob\n",
        "import re\n",
        "from tensorflow.python.keras import applications\n",
        "from tensorflow.python.keras.preprocessing.image import ImageDataGenerator \n",
        "from tensorflow.keras.optimizers import SGD, Adam\n",
        "from tensorflow.python.keras.models import Sequential,Model,load_model\n",
        "from tensorflow.python.keras.layers import Dense, Dropout, Flatten, Conv2D, MaxPool2D,GlobalAveragePooling2D\n",
        "from tensorflow.python.keras.callbacks import TensorBoard,ReduceLROnPlateau,ModelCheckpoint\n",
        "\n",
        "\n",
        "from keras.applications.vgg16 import VGG16\n",
        "from imblearn.over_sampling import SMOTE"
      ],
      "execution_count": 0,
      "outputs": [
        {
          "output_type": "stream",
          "text": [
            "Using TensorFlow backend.\n",
            "/usr/local/lib/python3.6/dist-packages/sklearn/externals/six.py:31: FutureWarning: The module is deprecated in version 0.21 and will be removed in version 0.23 since we've dropped support for Python 2.7. Please rely on the official version of six (https://pypi.org/project/six/).\n",
            "  \"(https://pypi.org/project/six/).\", FutureWarning)\n",
            "/usr/local/lib/python3.6/dist-packages/sklearn/utils/deprecation.py:144: FutureWarning: The sklearn.neighbors.base module is  deprecated in version 0.22 and will be removed in version 0.24. The corresponding classes / functions should instead be imported from sklearn.neighbors. Anything that cannot be imported from sklearn.neighbors is now part of the private API.\n",
            "  warnings.warn(message, FutureWarning)\n"
          ],
          "name": "stderr"
        }
      ]
    },
    {
      "cell_type": "code",
      "metadata": {
        "id": "0CVsnR-4AeAe",
        "colab_type": "code",
        "outputId": "6840647c-d1b5-47db-d2d3-9bcabd15b411",
        "colab": {
          "base_uri": "https://localhost:8080/",
          "height": 124
        }
      },
      "source": [
        "# mount drive on Google drive to access training data\n",
        "# Ignore this if you don't use Google Colab\n",
        "drive.mount(\"/content/drive\")"
      ],
      "execution_count": 0,
      "outputs": [
        {
          "output_type": "stream",
          "text": [
            "Go to this URL in a browser: https://accounts.google.com/o/oauth2/auth?client_id=947318989803-6bn6qk8qdgf4n4g3pfee6491hc0brc4i.apps.googleusercontent.com&redirect_uri=urn%3aietf%3awg%3aoauth%3a2.0%3aoob&response_type=code&scope=email%20https%3a%2f%2fwww.googleapis.com%2fauth%2fdocs.test%20https%3a%2f%2fwww.googleapis.com%2fauth%2fdrive%20https%3a%2f%2fwww.googleapis.com%2fauth%2fdrive.photos.readonly%20https%3a%2f%2fwww.googleapis.com%2fauth%2fpeopleapi.readonly\n",
            "\n",
            "Enter your authorization code:\n",
            "··········\n",
            "Mounted at /content/drive\n"
          ],
          "name": "stdout"
        }
      ]
    },
    {
      "cell_type": "code",
      "metadata": {
        "colab_type": "code",
        "id": "qgZfqcKlBGKF",
        "colab": {}
      },
      "source": [
        "# Access training data in My Drive\n",
        "train_path = \"/content/drive/My Drive/ECE542_sp20_CompetitionData/TrainData-C2/\"\n",
        "# get training labels\n",
        "train_labels = pd.read_csv(\"/content/drive/My Drive/ECE542_sp20_CompetitionData/TrainData-C2/TrainAnnotations.csv\")\n",
        "train_labels.sort_values(by=[\"file_name\"], inplace=True)\n",
        "train_files = glob.glob(train_path + \"*.jpg\")\n",
        "train_files.sort()"
      ],
      "execution_count": 0,
      "outputs": []
    },
    {
      "cell_type": "code",
      "metadata": {
        "id": "1Hq-gAnQBHaF",
        "colab_type": "code",
        "outputId": "41922160-ad91-4460-d516-f8fe884d9e02",
        "colab": {
          "base_uri": "https://localhost:8080/",
          "height": 69
        }
      },
      "source": [
        "#sanity check\n",
        "train_labels.annotation[100]\n",
        "print(train_labels.file_name[100])\n",
        "print(train_files[100])\n",
        "re.sub(train_path, \"\", train_files[100])"
      ],
      "execution_count": 0,
      "outputs": [
        {
          "output_type": "stream",
          "text": [
            "002191.jpg\n",
            "/content/drive/My Drive/ECE542_sp20_CompetitionData/TrainData-C2/002191.jpg\n"
          ],
          "name": "stdout"
        },
        {
          "output_type": "execute_result",
          "data": {
            "text/plain": [
              "'002191.jpg'"
            ]
          },
          "metadata": {
            "tags": []
          },
          "execution_count": 4
        }
      ]
    },
    {
      "cell_type": "markdown",
      "metadata": {
        "id": "nYZpNDe1Btve",
        "colab_type": "text"
      },
      "source": [
        "# Helper functions"
      ]
    },
    {
      "cell_type": "code",
      "metadata": {
        "id": "6oq8rpBUBaAW",
        "colab_type": "code",
        "colab": {}
      },
      "source": [
        "def extract_data(file_names, labels, size=None):\n",
        "  \"\"\"\n",
        "  Extract all images given list of file names and list of labels.  Also resize\n",
        "  images according to user-defined size\n",
        "  Inputs:\n",
        "  - filenames: list of file paths to images\n",
        "  - labels: list of label of each image; order based on the order of filenames\n",
        "  Outputs:\n",
        "  - images: list of RGB images\n",
        "  - annotations: list of labels for the images\n",
        "  \"\"\"\n",
        "  images = []\n",
        "  annotations = []\n",
        "  for idx, f in enumerate(file_names):\n",
        "    img = io.imread(f)\n",
        "    if size is not None:\n",
        "      img = resize(img, (size, size), anti_aliasing=True)\n",
        "    images.append(img)\n",
        "    annotations.append(labels[idx])\n",
        "  return images, annotations"
      ],
      "execution_count": 0,
      "outputs": []
    },
    {
      "cell_type": "code",
      "metadata": {
        "id": "f5ja_VvxByVj",
        "colab_type": "code",
        "colab": {}
      },
      "source": [
        "def RGB2HUE(images):\n",
        "  \"\"\"\n",
        "  Convert all RGB images into HSV channel\n",
        "  Input:\n",
        "  - images: list of images of shape (H, W, 3)\n",
        "  \"\"\"\n",
        "  hue = []\n",
        "  for img in images:\n",
        "    hue.append(color.rgb2hsv(img))\n",
        "  return hue"
      ],
      "execution_count": 0,
      "outputs": []
    },
    {
      "cell_type": "code",
      "metadata": {
        "id": "9_WgRSnEB0th",
        "colab_type": "code",
        "colab": {}
      },
      "source": [
        "def df_to_array(df, output_shape):\n",
        "  \"\"\"\n",
        "  Assuming the last column is the target column\n",
        "  Convert dataframe of images (flatten) to arrays of images in shape (H, W, 3)\n",
        "  Inputs:\n",
        "  - df: dataframe of flatten images\n",
        "  - output_shape: tuple of the shape of a single image (H, W, 3)\n",
        "  \"\"\"\n",
        "  X = []\n",
        "  pixel_matrix = df.iloc[:,:-1].values\n",
        "  X = [pixel_matrix[i].reshape(output_shape) for i in range(len(pixel_matrix))]\n",
        "  return np.array(X), df.iloc[:,-1].values"
      ],
      "execution_count": 0,
      "outputs": []
    },
    {
      "cell_type": "code",
      "metadata": {
        "id": "GgaL0m3_B3Yx",
        "colab_type": "code",
        "colab": {}
      },
      "source": [
        "# This cell may take awhile to run\n",
        "# extract all data\n",
        "images, labels = extract_data(train_files, train_labels.annotation, 224)\n",
        "\n",
        "# convert images to HSV (uncomment if needed)\n",
        "#HSV = RGB2HSV(images)\n",
        "\n",
        "#convert images to HUE (uncomment if needed)\n",
        "HSV = RGB2HUE(images)\n"
      ],
      "execution_count": 0,
      "outputs": []
    },
    {
      "cell_type": "code",
      "metadata": {
        "id": "xZuXPHa0E-N6",
        "colab_type": "code",
        "outputId": "6e7a4ae0-9005-4e95-ea97-77879ca77bb1",
        "colab": {
          "base_uri": "https://localhost:8080/",
          "height": 176
        }
      },
      "source": [
        "# # Get training and validation without augmentation or sampling\n",
        "# X = np.array(HUE)\n",
        "# X = X.reshape(1275, 224, 224, 1) # need to avoid the dimension error\n",
        "# Y = to_categorical(labels)\n",
        "# X_train, X_val, Y_train, Y_val = train_test_split(X, Y, test_size=0.25, random_state=31)\n",
        "\n",
        "\n",
        "\n",
        "\n",
        "# Get training and validation without augmentation or sampling\n",
        "# X = np.array(HUE)\n",
        "# print(X.shape)\n",
        "# X = X.reshape(1275, 224, 224, 1) # need to avoid the dimension error\n",
        "Y = to_categorical(labels)\n",
        "X = np.array(HSV)\n",
        "\n",
        "\n",
        "\n",
        "X_train, X_val, Y_train, Y_val = train_test_split(X, Y, test_size=0.3, random_state=32)\n",
        "\n",
        "original_shape = X_train.shape\n",
        "\n",
        "X_train = np.reshape(X_train, (X_train.shape[0], X_train.shape[1]*X_train.shape[2]*X_train.shape[3]))\n",
        "\n",
        "# # transform the dataset\n",
        "oversample = SMOTE(random_state=32)\n",
        "X_train, Y_train = oversample.fit_resample(X_train, Y_train)\n",
        "\n"
      ],
      "execution_count": 0,
      "outputs": [
        {
          "output_type": "stream",
          "text": [
            "/usr/local/lib/python3.6/dist-packages/sklearn/utils/deprecation.py:87: FutureWarning: Function safe_indexing is deprecated; safe_indexing is deprecated in version 0.22 and will be removed in version 0.24.\n",
            "  warnings.warn(msg, category=FutureWarning)\n",
            "/usr/local/lib/python3.6/dist-packages/sklearn/utils/deprecation.py:87: FutureWarning: Function safe_indexing is deprecated; safe_indexing is deprecated in version 0.22 and will be removed in version 0.24.\n",
            "  warnings.warn(msg, category=FutureWarning)\n",
            "/usr/local/lib/python3.6/dist-packages/sklearn/utils/deprecation.py:87: FutureWarning: Function safe_indexing is deprecated; safe_indexing is deprecated in version 0.22 and will be removed in version 0.24.\n",
            "  warnings.warn(msg, category=FutureWarning)\n",
            "/usr/local/lib/python3.6/dist-packages/sklearn/utils/deprecation.py:87: FutureWarning: Function safe_indexing is deprecated; safe_indexing is deprecated in version 0.22 and will be removed in version 0.24.\n",
            "  warnings.warn(msg, category=FutureWarning)\n"
          ],
          "name": "stderr"
        }
      ]
    },
    {
      "cell_type": "code",
      "metadata": {
        "id": "iQ49yv2FepHB",
        "colab_type": "code",
        "outputId": "ae40df62-2bb8-4826-b1b6-53cd64a9b2a4",
        "colab": {
          "base_uri": "https://localhost:8080/",
          "height": 72
        }
      },
      "source": [
        "X_val_original_shape = X_val.shape\n",
        "X_val =  np.reshape(X_val, (X_val.shape[0], X_val.shape[1]*X_val.shape[2]*X_val.shape[3]))\n",
        "from imblearn.under_sampling import ClusterCentroids\n",
        "\n",
        "# X_val = np.reshape(X_val, (383, original_shape[1],\n",
        "#                                original_shape[2], original_shape[3]))\n",
        "cc = ClusterCentroids(random_state=32)\n",
        "\n",
        "X_val, Y_val = cc.fit_resample(X_val, Y_val)\n",
        "\n",
        "X_val = np.reshape(X_val, (190, X_val_original_shape[1],\n",
        "                               X_val_original_shape[2], X_val_original_shape[3]))"
      ],
      "execution_count": 0,
      "outputs": [
        {
          "output_type": "stream",
          "text": [
            "/usr/local/lib/python3.6/dist-packages/sklearn/utils/deprecation.py:87: FutureWarning: Function safe_indexing is deprecated; safe_indexing is deprecated in version 0.22 and will be removed in version 0.24.\n",
            "  warnings.warn(msg, category=FutureWarning)\n"
          ],
          "name": "stderr"
        }
      ]
    },
    {
      "cell_type": "code",
      "metadata": {
        "id": "9_wkXZRWessD",
        "colab_type": "code",
        "outputId": "fc7890c2-eb12-4874-ce90-65ddb990a1eb",
        "colab": {
          "base_uri": "https://localhost:8080/",
          "height": 52
        }
      },
      "source": [
        "print(X_train.shape)\n",
        "X_train = np.reshape(X_train, (1675, original_shape[1],\n",
        "                               original_shape[2], original_shape[3]))\n",
        "print(X_train.shape)"
      ],
      "execution_count": 0,
      "outputs": [
        {
          "output_type": "stream",
          "text": [
            "(1675, 150528)\n",
            "(1675, 224, 224, 3)\n"
          ],
          "name": "stdout"
        }
      ]
    },
    {
      "cell_type": "code",
      "metadata": {
        "id": "VGvMLpQwgcgS",
        "colab_type": "code",
        "outputId": "e1b6a915-e01c-4c3a-fc89-09ed898758ed",
        "colab": {
          "base_uri": "https://localhost:8080/",
          "height": 52
        }
      },
      "source": [
        "# class distribution of training and validation sets\n",
        "print(np.sum(Y_train, axis=0))\n",
        "print(np.sum(Y_val, axis=0))"
      ],
      "execution_count": 0,
      "outputs": [
        {
          "output_type": "stream",
          "text": [
            "[335 335 335 335 335]\n",
            "[38 38 38 38 38]\n"
          ],
          "name": "stdout"
        }
      ]
    },
    {
      "cell_type": "code",
      "metadata": {
        "id": "Rf4gNY91jZyD",
        "colab_type": "code",
        "colab": {}
      },
      "source": [
        "vgg16_base = VGG16(weights=None, include_top=False, input_shape=(224, 224, 3))"
      ],
      "execution_count": 0,
      "outputs": []
    },
    {
      "cell_type": "code",
      "metadata": {
        "id": "RKkD47mymiID",
        "colab_type": "code",
        "colab": {}
      },
      "source": [
        "from keras import models\n",
        "from keras import layers\n",
        "from keras import optimizers\n",
        "\n",
        "vgg16_model = models.Sequential()\n",
        " \n",
        "# Add the vgg convolutional base model\n",
        "vgg16_model.add(vgg16_base)\n",
        " \n",
        "# Add new layers\n",
        "#model.add(layers.Flatten())\n",
        "\n",
        "# vgg16_model.add(layers.Dense(256, activation='relu', input_dim=4 * 4 * 512))\n",
        "vgg16_model.add(layers.Dropout(0.7))\n",
        "vgg16_model.add(layers.Flatten())\n",
        "vgg16_model.add(layers.Dense(5, activation='softmax'))  "
      ],
      "execution_count": 0,
      "outputs": []
    },
    {
      "cell_type": "code",
      "metadata": {
        "id": "raX4w6OikQxx",
        "colab_type": "code",
        "colab": {}
      },
      "source": [
        "adam = Adam(lr=0.0001)\n",
        "sgd = SGD(lr=0.01, momentum=0.9)\n",
        "vgg16_model.compile(optimizer=sgd, \n",
        "              loss='categorical_crossentropy',\n",
        "              metrics=['accuracy'])"
      ],
      "execution_count": 0,
      "outputs": []
    },
    {
      "cell_type": "code",
      "metadata": {
        "id": "5UR53E-mjnKK",
        "colab_type": "code",
        "outputId": "d1778689-7e4e-4815-8a3a-dbf3a571a727",
        "colab": {
          "base_uri": "https://localhost:8080/",
          "height": 312
        }
      },
      "source": [
        "print(vgg16_model.summary())"
      ],
      "execution_count": 0,
      "outputs": [
        {
          "output_type": "stream",
          "text": [
            "Model: \"sequential_3\"\n",
            "_________________________________________________________________\n",
            "Layer (type)                 Output Shape              Param #   \n",
            "=================================================================\n",
            "vgg16 (Model)                (None, 7, 7, 512)         14714688  \n",
            "_________________________________________________________________\n",
            "dropout_3 (Dropout)          (None, 7, 7, 512)         0         \n",
            "_________________________________________________________________\n",
            "flatten_3 (Flatten)          (None, 25088)             0         \n",
            "_________________________________________________________________\n",
            "dense_3 (Dense)              (None, 5)                 125445    \n",
            "=================================================================\n",
            "Total params: 14,840,133\n",
            "Trainable params: 14,840,133\n",
            "Non-trainable params: 0\n",
            "_________________________________________________________________\n",
            "None\n"
          ],
          "name": "stdout"
        }
      ]
    },
    {
      "cell_type": "code",
      "metadata": {
        "id": "dH6SoOrbjucq",
        "colab_type": "code",
        "outputId": "b3a50b75-2fd4-4f5e-cf49-8aa283f7dd63",
        "colab": {
          "base_uri": "https://localhost:8080/",
          "height": 471
        }
      },
      "source": [
        "vgg16_fit = vgg16_model.fit(X_train, Y_train, epochs=12, batch_size=32, validation_data=(X_val, Y_val), verbose=1)"
      ],
      "execution_count": 0,
      "outputs": [
        {
          "output_type": "stream",
          "text": [
            "Train on 1675 samples, validate on 190 samples\n",
            "Epoch 1/12\n",
            "1675/1675 [==============================] - 309s 184ms/step - loss: 1.6112 - accuracy: 0.1952 - val_loss: 1.6103 - val_accuracy: 0.2000\n",
            "Epoch 2/12\n",
            "1675/1675 [==============================] - 309s 184ms/step - loss: 1.6117 - accuracy: 0.1881 - val_loss: 1.6094 - val_accuracy: 0.2000\n",
            "Epoch 3/12\n",
            "1675/1675 [==============================] - 310s 185ms/step - loss: 1.6120 - accuracy: 0.2000 - val_loss: 1.6094 - val_accuracy: 0.2000\n",
            "Epoch 4/12\n",
            "1675/1675 [==============================] - 308s 184ms/step - loss: 1.6075 - accuracy: 0.2078 - val_loss: 1.5842 - val_accuracy: 0.2158\n",
            "Epoch 5/12\n",
            "1675/1675 [==============================] - 308s 184ms/step - loss: 1.6051 - accuracy: 0.2101 - val_loss: 1.6100 - val_accuracy: 0.2000\n",
            "Epoch 6/12\n",
            "1675/1675 [==============================] - 312s 186ms/step - loss: 1.6114 - accuracy: 0.1809 - val_loss: 1.6100 - val_accuracy: 0.2000\n",
            "Epoch 7/12\n",
            "1675/1675 [==============================] - 312s 186ms/step - loss: 1.6111 - accuracy: 0.1994 - val_loss: 1.6094 - val_accuracy: 0.2000\n",
            "Epoch 8/12\n",
            "1675/1675 [==============================] - 313s 187ms/step - loss: 1.6116 - accuracy: 0.1952 - val_loss: 1.6094 - val_accuracy: 0.2000\n",
            "Epoch 9/12\n",
            "1675/1675 [==============================] - 315s 188ms/step - loss: 1.6104 - accuracy: 0.1922 - val_loss: 1.6093 - val_accuracy: 0.2000\n",
            "Epoch 10/12\n",
            "1675/1675 [==============================] - 313s 187ms/step - loss: 1.6108 - accuracy: 0.1970 - val_loss: 1.6089 - val_accuracy: 0.2789\n",
            "Epoch 11/12\n",
            "1675/1675 [==============================] - 314s 187ms/step - loss: 1.6088 - accuracy: 0.2131 - val_loss: 1.6045 - val_accuracy: 0.2632\n",
            "Epoch 12/12\n",
            "1675/1675 [==============================] - 316s 189ms/step - loss: 1.5791 - accuracy: 0.2687 - val_loss: 1.5355 - val_accuracy: 0.3105\n"
          ],
          "name": "stdout"
        }
      ]
    },
    {
      "cell_type": "code",
      "metadata": {
        "id": "gLDV6n48npbU",
        "colab_type": "code",
        "outputId": "76c0ba36-799c-4505-f8f4-976116dce327",
        "colab": {
          "base_uri": "https://localhost:8080/",
          "height": 72
        }
      },
      "source": [
        "# save model. always run this\n",
        "vgg16_model.save(\"VGG16_HSV.h5\")"
      ],
      "execution_count": 0,
      "outputs": [
        {
          "output_type": "stream",
          "text": [
            "/usr/local/lib/python3.6/dist-packages/keras/engine/saving.py:165: UserWarning: TensorFlow optimizers do not make it possible to access optimizer attributes or optimizer state after instantiation. As a result, we cannot save the optimizer as part of the model save file.You will have to compile your model again after loading it. Prefer using a Keras optimizer instead (see keras.io/optimizers).\n",
            "  'TensorFlow optimizers do not '\n"
          ],
          "name": "stderr"
        }
      ]
    },
    {
      "cell_type": "code",
      "metadata": {
        "id": "nbS49lninL5-",
        "colab_type": "code",
        "outputId": "c5bc5e66-895a-44ae-ec3b-a7426b35889d",
        "colab": {
          "base_uri": "https://localhost:8080/",
          "height": 316
        }
      },
      "source": [
        "accuracy = vgg16_fit.history['accuracy']\n",
        "val_accuracy = vgg16_fit.history['val_accuracy']\n",
        "loss = vgg16_fit.history['loss']\n",
        "val_loss = vgg16_fit.history['val_loss']\n",
        "epochs = range(len(accuracy))\n",
        "\n",
        "plt.plot(epochs, accuracy, 'b-', label='Training accuracy')\n",
        "plt.plot(epochs, val_accuracy, 'r-', label='Validation accuracy')\n",
        "plt.title('Training and validation accuracy')\n",
        "plt.legend()\n",
        "plt.figure()"
      ],
      "execution_count": 0,
      "outputs": [
        {
          "output_type": "execute_result",
          "data": {
            "text/plain": [
              "<Figure size 432x288 with 0 Axes>"
            ]
          },
          "metadata": {
            "tags": []
          },
          "execution_count": 44
        },
        {
          "output_type": "display_data",
          "data": {
            "image/png": "[encoded data removed]",
            "text/plain": [
              "<Figure size 432x288 with 1 Axes>"
            ]
          },
          "metadata": {
            "tags": [],
            "needs_background": "light"
          }
        },
        {
          "output_type": "display_data",
          "data": {
            "text/plain": [
              "<Figure size 432x288 with 0 Axes>"
            ]
          },
          "metadata": {
            "tags": []
          }
        }
      ]
    },
    {
      "cell_type": "markdown",
      "metadata": {
        "id": "f2AX3XnTPGO5",
        "colab_type": "text"
      },
      "source": [
        "# Make prediction on the test set"
      ]
    },
    {
      "cell_type": "code",
      "metadata": {
        "id": "BUhxRVPuPIss",
        "colab_type": "code",
        "colab": {}
      },
      "source": [
        "# Loading the test set\n",
        "# Access testing data in My Drive\n",
        "test_path = \"/content/drive/My Drive/ECE542_sp20_CompetitionData/TestData/\"\n",
        "test_files = glob.glob(test_path + \"*.jpg\")\n",
        "test_files.sort()"
      ],
      "execution_count": 0,
      "outputs": []
    },
    {
      "cell_type": "code",
      "metadata": {
        "id": "jrjjzAXlPN87",
        "colab_type": "code",
        "colab": {}
      },
      "source": [
        "# Load all testing data and convert them into hsv \n",
        "test_data = []\n",
        "for f in test_files:\n",
        "  img = io.imread(f)\n",
        "  # rescale images to half original size\n",
        "  img = resize(img, (224, 224), anti_aliasing=True)\n",
        "  #hsv = color.rgb2hsv(img)\n",
        "  hue = color.rgb2hsv(img)[:,:,0]\n",
        "  test_data.append(hue)"
      ],
      "execution_count": 0,
      "outputs": []
    },
    {
      "cell_type": "code",
      "metadata": {
        "id": "xfPhapULPP_v",
        "colab_type": "code",
        "colab": {}
      },
      "source": [
        "# making prediction\n",
        "test_data = np.array(test_data)\n",
        "test_data = test_data.reshape(200, 224, 224, 1)\n",
        "predict = vgg16_model.predict(np.array(test_data))\n",
        "Yhat = np.argmax(predict, axis=1)"
      ],
      "execution_count": 0,
      "outputs": []
    },
    {
      "cell_type": "code",
      "metadata": {
        "id": "oK6g-K5OPXYb",
        "colab_type": "code",
        "outputId": "8634d8a1-8b00-41dc-b68f-d4f4b30ccf28",
        "colab": {
          "base_uri": "https://localhost:8080/",
          "height": 139
        }
      },
      "source": [
        "print(Yhat)\n",
        "np.sum(to_categorical(Yhat), axis=0)"
      ],
      "execution_count": 0,
      "outputs": [
        {
          "output_type": "stream",
          "text": [
            "[1 1 4 0 4 4 4 1 1 1 1 4 1 4 1 1 4 1 1 1 1 4 1 1 4 0 1 1 2 1 1 0 1 4 1 1 4\n",
            " 1 1 0 1 4 1 1 1 1 1 1 1 1 1 1 1 4 4 4 0 4 0 1 1 1 4 4 1 4 4 2 4 1 4 4 4 1\n",
            " 1 1 4 4 1 1 1 4 4 2 1 1 1 1 1 1 4 1 4 1 1 4 1 4 1 4 4 4 4 4 1 1 1 1 1 1 1\n",
            " 4 4 1 4 4 1 1 1 4 1 1 1 4 1 4 1 4 1 4 1 4 4 1 4 4 0 1 1 1 4 1 1 0 1 1 0 1\n",
            " 1 4 1 1 4 0 4 1 1 4 1 1 4 0 1 0 1 1 4 4 1 1 4 4 1 1 1 1 4 4 4 4 1 1 4 1 4\n",
            " 1 0 1 4 1 1 4 1 4 1 0 4 1 1 1]\n"
          ],
          "name": "stdout"
        },
        {
          "output_type": "execute_result",
          "data": {
            "text/plain": [
              "array([ 14., 113.,   3.,   0.,  70.], dtype=float32)"
            ]
          },
          "metadata": {
            "tags": []
          },
          "execution_count": 51
        }
      ]
    }
  ]
}