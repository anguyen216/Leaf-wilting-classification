{
 "cells": [
  {
   "cell_type": "markdown",
   "metadata": {},
   "source": [
    "# Image Classification Using SVM"
   ]
  },
  {
   "cell_type": "code",
   "execution_count": 9,
   "metadata": {},
   "outputs": [],
   "source": [
    "import numpy as np\n",
    "import cv2\n",
    "from matplotlib import pyplot as plt\n",
    "from skimage import io\n",
    "import glob\n",
    "import re\n",
    "import pandas as pd\n",
    "from sklearn.utils import Bunch\n",
    "from sklearn.model_selection import train_test_split, cross_val_score\n",
    "from sklearn.metrics import accuracy_score\n",
    "from sklearn.metrics import classification_report\n",
    "from sklearn.svm import SVC"
   ]
  },
  {
   "cell_type": "markdown",
   "metadata": {},
   "source": [
    "## Load data and return a structured dataset"
   ]
  },
  {
   "cell_type": "code",
   "execution_count": 2,
   "metadata": {},
   "outputs": [],
   "source": [
    "train_csv = pd.read_csv(\"./data/TrainAnnotations.csv\")\n",
    "def load_images(path):\n",
    "    files = glob.glob(path + \"*.jpg\")\n",
    "    images = []\n",
    "    hsv_data = []\n",
    "    file_name = []\n",
    "    annotations =[]\n",
    "    \n",
    "    for file in files:\n",
    "        name = re.sub(\"./data/TrainData/\", \"\", file)\n",
    "        image = cv2.imread(file)\n",
    "        hsv = cv2.cvtColor(image, cv2.COLOR_BGR2HSV)[:,:,0]\n",
    "\n",
    "        for rows in train_csv.iterrows():\n",
    "            if rows[1].file_name == name:\n",
    "                annotation = rows[1].annotation\n",
    "                annotations.append(annotation)\n",
    "        \n",
    "        file_name.append(name)\n",
    "        images.append(image)\n",
    "        hsv_data.append(hsv.flatten())\n",
    "        \n",
    "        \n",
    "        \n",
    "    \n",
    "    file_name = np.array(file_name)\n",
    "    images = np.array(images)\n",
    "    hsv_data = np.array(hsv_data) \n",
    "    annotations = np.array(annotations)\n",
    "    \n",
    "    return Bunch(file_name = file_name,\n",
    "                images = images,\n",
    "                hsv_data = hsv_data,\n",
    "                annotations = annotations)\n",
    "        "
   ]
  },
  {
   "cell_type": "code",
   "execution_count": 3,
   "metadata": {},
   "outputs": [],
   "source": [
    "image_dataset = load_images(\"./data/TrainData/\")"
   ]
  },
  {
   "cell_type": "code",
   "execution_count": 5,
   "metadata": {
    "collapsed": true
   },
   "outputs": [
    {
     "data": {
      "text/plain": [
       "{'file_name': array(['001516.jpg', '000608.jpg', '016718.jpg', ..., '018937.jpg',\n",
       "        '013876.jpg', '013123.jpg'], dtype='<U10'),\n",
       " 'images': array([[[[251, 255, 254],\n",
       "          [255, 255, 254],\n",
       "          [255, 255, 254],\n",
       "          ...,\n",
       "          [ 44, 108,  89],\n",
       "          [ 45, 102,  81],\n",
       "          [ 44,  96,  73]],\n",
       " \n",
       "         [[251, 255, 254],\n",
       "          [255, 255, 254],\n",
       "          [255, 255, 254],\n",
       "          ...,\n",
       "          [ 44,  96,  86],\n",
       "          [ 49,  98,  84],\n",
       "          [ 52,  98,  79]],\n",
       " \n",
       "         [[251, 255, 254],\n",
       "          [255, 255, 254],\n",
       "          [255, 255, 254],\n",
       "          ...,\n",
       "          [ 72, 120, 114],\n",
       "          [ 83, 133, 123],\n",
       "          [ 96, 148, 131]],\n",
       " \n",
       "         ...,\n",
       " \n",
       "         [[104, 184, 171],\n",
       "          [ 76, 145, 134],\n",
       "          [ 76, 135, 121],\n",
       "          ...,\n",
       "          [ 90, 199, 183],\n",
       "          [ 91, 199, 186],\n",
       "          [ 91, 202, 188]],\n",
       " \n",
       "         [[ 89, 161, 141],\n",
       "          [ 75, 140, 124],\n",
       "          [ 76, 133, 118],\n",
       "          ...,\n",
       "          [ 93, 196, 181],\n",
       "          [ 95, 196, 181],\n",
       "          [ 98, 196, 184]],\n",
       " \n",
       "         [[ 83, 144, 118],\n",
       "          [ 91, 151, 127],\n",
       "          [ 84, 139, 122],\n",
       "          ...,\n",
       "          [103, 200, 186],\n",
       "          [106, 198, 185],\n",
       "          [109, 197, 184]]],\n",
       " \n",
       " \n",
       "        [[[144, 151, 146],\n",
       "          [152, 149, 144],\n",
       "          [153, 141, 135],\n",
       "          ...,\n",
       "          [ 88,  78,  84],\n",
       "          [ 99,  88,  96],\n",
       "          [ 94,  81,  89]],\n",
       " \n",
       "         [[164, 150, 152],\n",
       "          [169, 150, 153],\n",
       "          [170, 148, 150],\n",
       "          ...,\n",
       "          [ 68,  56,  62],\n",
       "          [ 83,  72,  80],\n",
       "          [ 77,  66,  74]],\n",
       " \n",
       "         [[178, 144, 155],\n",
       "          [176, 142, 153],\n",
       "          [186, 154, 165],\n",
       "          ...,\n",
       "          [ 73,  61,  67],\n",
       "          [ 63,  51,  57],\n",
       "          [ 68,  57,  65]],\n",
       " \n",
       "         ...,\n",
       " \n",
       "         [[ 39,  41,  49],\n",
       "          [ 40,  39,  49],\n",
       "          [ 41,  37,  49],\n",
       "          ...,\n",
       "          [177, 183, 178],\n",
       "          [152, 156, 150],\n",
       "          [133, 134, 125]],\n",
       " \n",
       "         [[ 47,  39,  49],\n",
       "          [ 45,  43,  49],\n",
       "          [ 43,  41,  47],\n",
       "          ...,\n",
       "          [177, 182, 180],\n",
       "          [186, 193, 186],\n",
       "          [175, 181, 170]],\n",
       " \n",
       "         [[ 57,  41,  52],\n",
       "          [ 51,  45,  50],\n",
       "          [ 45,  42,  44],\n",
       "          ...,\n",
       "          [148, 151, 149],\n",
       "          [168, 175, 172],\n",
       "          [175, 189, 178]]],\n",
       " \n",
       " \n",
       "        [[[117, 173, 160],\n",
       "          [ 95, 148, 135],\n",
       "          [ 71, 116, 107],\n",
       "          ...,\n",
       "          [127, 188, 184],\n",
       "          [142, 196, 196],\n",
       "          [144, 195, 197]],\n",
       " \n",
       "         [[109, 162, 159],\n",
       "          [102, 159, 151],\n",
       "          [ 79, 132, 122],\n",
       "          ...,\n",
       "          [151, 211, 205],\n",
       "          [143, 200, 197],\n",
       "          [131, 186, 183]],\n",
       " \n",
       "         [[ 91, 137, 144],\n",
       "          [ 95, 150, 147],\n",
       "          [ 77, 135, 124],\n",
       "          ...,\n",
       "          [152, 210, 205],\n",
       "          [144, 202, 197],\n",
       "          [135, 195, 187]],\n",
       " \n",
       "         ...,\n",
       " \n",
       "         [[ 10,  28,  11],\n",
       "          [ 12,  29,  18],\n",
       "          [ 12,  29,  26],\n",
       "          ...,\n",
       "          [ 70, 117, 108],\n",
       "          [ 65,  94,  91],\n",
       "          [ 64,  80,  79]],\n",
       " \n",
       "         [[ 13,  34,  25],\n",
       "          [ 13,  30,  27],\n",
       "          [ 12,  24,  28],\n",
       "          ...,\n",
       "          [ 53,  97,  91],\n",
       "          [ 59,  87,  87],\n",
       "          [ 59,  80,  78]],\n",
       " \n",
       "         [[ 12,  33,  34],\n",
       "          [ 13,  27,  33],\n",
       "          [ 18,  25,  34],\n",
       "          ...,\n",
       "          [ 44,  82,  82],\n",
       "          [ 44,  69,  71],\n",
       "          [ 45,  67,  65]]],\n",
       " \n",
       " \n",
       "        ...,\n",
       " \n",
       " \n",
       "        [[[122, 171, 155],\n",
       "          [116, 163, 147],\n",
       "          [116, 159, 144],\n",
       "          ...,\n",
       "          [130, 153, 149],\n",
       "          [136, 155, 152],\n",
       "          [140, 157, 153]],\n",
       " \n",
       "         [[146, 192, 186],\n",
       "          [123, 167, 160],\n",
       "          [115, 158, 147],\n",
       "          ...,\n",
       "          [133, 155, 150],\n",
       "          [139, 159, 154],\n",
       "          [143, 164, 156]],\n",
       " \n",
       "         [[164, 207, 210],\n",
       "          [138, 183, 180],\n",
       "          [113, 160, 151],\n",
       "          ...,\n",
       "          [143, 161, 154],\n",
       "          [147, 165, 158],\n",
       "          [148, 167, 158]],\n",
       " \n",
       "         ...,\n",
       " \n",
       "         [[ 87, 110, 102],\n",
       "          [ 80,  99,  90],\n",
       "          [ 78,  95,  86],\n",
       "          ...,\n",
       "          [ 85, 134, 112],\n",
       "          [ 83, 132, 110],\n",
       "          [ 80, 131, 111]],\n",
       " \n",
       "         [[ 86, 104,  97],\n",
       "          [ 81,  97,  90],\n",
       "          [ 79,  94,  86],\n",
       "          ...,\n",
       "          [ 84, 134, 116],\n",
       "          [ 84, 132, 114],\n",
       "          [ 85, 130, 113]],\n",
       " \n",
       "         [[ 81,  98,  89],\n",
       "          [ 78,  94,  87],\n",
       "          [ 77,  91,  85],\n",
       "          ...,\n",
       "          [ 80, 132, 115],\n",
       "          [ 81, 130, 116],\n",
       "          [ 82, 126, 113]]],\n",
       " \n",
       " \n",
       "        [[[ 74, 191, 164],\n",
       "          [ 55, 186, 166],\n",
       "          [ 46, 186, 169],\n",
       "          ...,\n",
       "          [ 89, 151, 129],\n",
       "          [101, 130, 114],\n",
       "          [136, 150, 138]],\n",
       " \n",
       "         [[ 62, 171, 149],\n",
       "          [ 59, 179, 161],\n",
       "          [ 55, 184, 169],\n",
       "          ...,\n",
       "          [114, 181, 160],\n",
       "          [121, 161, 149],\n",
       "          [153, 176, 171]],\n",
       " \n",
       "         [[ 66, 155, 145],\n",
       "          [ 68, 174, 161],\n",
       "          [ 55, 173, 160],\n",
       "          ...,\n",
       "          [140, 205, 189],\n",
       "          [167, 218, 210],\n",
       "          [165, 200, 203]],\n",
       " \n",
       "         ...,\n",
       " \n",
       "         [[ 26,  50,  56],\n",
       "          [ 36,  60,  58],\n",
       "          [ 50,  75,  65],\n",
       "          ...,\n",
       "          [192, 225, 218],\n",
       "          [183, 217, 207],\n",
       "          [187, 221, 210]],\n",
       " \n",
       "         [[ 25,  41,  54],\n",
       "          [ 34,  53,  58],\n",
       "          [ 47,  69,  64],\n",
       "          ...,\n",
       "          [196, 228, 217],\n",
       "          [192, 223, 214],\n",
       "          [187, 218, 209]],\n",
       " \n",
       "         [[ 31,  39,  56],\n",
       "          [ 35,  48,  56],\n",
       "          [ 46,  64,  63],\n",
       "          ...,\n",
       "          [191, 222, 207],\n",
       "          [194, 224, 213],\n",
       "          [192, 220, 214]]],\n",
       " \n",
       " \n",
       "        [[[ 94, 179, 159],\n",
       "          [ 86, 163, 142],\n",
       "          [ 87, 151, 129],\n",
       "          ...,\n",
       "          [ 86, 111, 101],\n",
       "          [ 87, 115,  96],\n",
       "          [ 90, 120,  91]],\n",
       " \n",
       "         [[ 91, 179, 155],\n",
       "          [ 96, 171, 149],\n",
       "          [ 91, 154, 134],\n",
       "          ...,\n",
       "          [ 94, 123, 107],\n",
       "          [ 90, 120, 101],\n",
       "          [ 75, 104,  81]],\n",
       " \n",
       "         [[ 98, 181, 156],\n",
       "          [ 92, 166, 142],\n",
       "          [ 94, 159, 138],\n",
       "          ...,\n",
       "          [ 94, 127, 106],\n",
       "          [ 60,  89,  73],\n",
       "          [ 53,  79,  65]],\n",
       " \n",
       "         ...,\n",
       " \n",
       "         [[ 46,  95,  81],\n",
       "          [ 51,  97,  84],\n",
       "          [ 40,  82,  71],\n",
       "          ...,\n",
       "          [ 86, 109, 117],\n",
       "          [ 89, 108, 116],\n",
       "          [ 87, 100, 114]],\n",
       " \n",
       "         [[ 36, 105,  92],\n",
       "          [ 47, 108,  94],\n",
       "          [ 39,  91,  74],\n",
       "          ...,\n",
       "          [ 92, 116, 122],\n",
       "          [ 83, 104, 112],\n",
       "          [ 89, 107, 118]],\n",
       " \n",
       "         [[ 16, 103,  93],\n",
       "          [ 38, 115, 101],\n",
       "          [ 51, 112,  92],\n",
       "          ...,\n",
       "          [ 81, 103, 109],\n",
       "          [ 84, 106, 112],\n",
       "          [ 84, 111, 115]]]], dtype=uint8),\n",
       " 'hsv_data': array([[ 38,   4, 255, ...,  34, 114, 197],\n",
       "        [ 51,  12, 151, ...,  54,  19, 189],\n",
       "        [ 37,  83, 173, ...,  33,  84,  67],\n",
       "        ...,\n",
       "        [ 40,  73, 171, ...,  39,  89, 126],\n",
       "        [ 37, 156, 191, ...,  36,  32, 220],\n",
       "        [ 37, 121, 179, ...,  26,  69, 115]], dtype=uint8),\n",
       " 'annotations': array([1, 3, 0, ..., 0, 0, 2])}"
      ]
     },
     "execution_count": 5,
     "metadata": {},
     "output_type": "execute_result"
    }
   ],
   "source": [
    "image_dataset"
   ]
  },
  {
   "cell_type": "code",
   "execution_count": 44,
   "metadata": {},
   "outputs": [],
   "source": [
    "# imgs =['000006.jpg', '000016.jpg', '000032.jpg', '000097.jpg', '000104.jpg', '000122.jpg', '000237.jpg', '000253.jpg',\n",
    "# '000265.jpg', '000300.jpg']"
   ]
  },
  {
   "cell_type": "code",
   "execution_count": 59,
   "metadata": {},
   "outputs": [
    {
     "name": "stdout",
     "output_type": "stream",
     "text": [
      "{'imgs': array(['000006.jpg', '000016.jpg', '000032.jpg', '000097.jpg',\n",
      "       '000104.jpg', '000122.jpg', '000237.jpg', '000253.jpg',\n",
      "       '000265.jpg', '000300.jpg'], dtype='<U10'), 'annotations': array([0, 0, 0, 4, 0, 3, 4, 0, 0, 2])}\n"
     ]
    }
   ],
   "source": [
    "# annotations = []\n",
    "# for file in imgs:\n",
    "#     for rows in train_csv.iterrows():\n",
    "# #         print(rows)\n",
    "#         if rows[1].file_name == file:\n",
    "#             annotation = rows[1].annotation\n",
    "#             annotations.append(annotation)\n",
    "\n",
    "# imgs = np.array(imgs)\n",
    "# annotations = np.array(annotations)\n",
    "# x = Bunch(imgs = imgs,\n",
    "#           annotations = annotations)\n",
    "# print(x)\n"
   ]
  },
  {
   "cell_type": "markdown",
   "metadata": {},
   "source": [
    "## Split Data into Train and Test"
   ]
  },
  {
   "cell_type": "code",
   "execution_count": 4,
   "metadata": {},
   "outputs": [],
   "source": [
    "X_train, X_test, y_train, y_test = train_test_split(\n",
    "    image_dataset.hsv_data, image_dataset.annotations, test_size=0.2,random_state=109)"
   ]
  },
  {
   "cell_type": "code",
   "execution_count": 5,
   "metadata": {},
   "outputs": [
    {
     "data": {
      "text/plain": [
       "(820, 307200)"
      ]
     },
     "execution_count": 5,
     "metadata": {},
     "output_type": "execute_result"
    }
   ],
   "source": [
    "X_train.shape"
   ]
  },
  {
   "cell_type": "markdown",
   "metadata": {},
   "source": [
    "## Train Data"
   ]
  },
  {
   "cell_type": "code",
   "execution_count": 6,
   "metadata": {},
   "outputs": [
    {
     "data": {
      "text/plain": [
       "SVC(C=1.0, cache_size=200, class_weight=None, coef0=0.0,\n",
       "  decision_function_shape='ovr', degree=3, gamma='auto_deprecated',\n",
       "  kernel='linear', max_iter=-1, probability=False, random_state=None,\n",
       "  shrinking=True, tol=0.001, verbose=False)"
      ]
     },
     "execution_count": 6,
     "metadata": {},
     "output_type": "execute_result"
    }
   ],
   "source": [
    "clf = SVC(kernel='linear')\n",
    "clf.fit(X_train, y_train)"
   ]
  },
  {
   "cell_type": "markdown",
   "metadata": {},
   "source": [
    "## Prediction"
   ]
  },
  {
   "cell_type": "code",
   "execution_count": 7,
   "metadata": {},
   "outputs": [],
   "source": [
    "y_pred = clf.predict(X_test)"
   ]
  },
  {
   "cell_type": "markdown",
   "metadata": {},
   "source": [
    "## Get Accuracy"
   ]
  },
  {
   "cell_type": "code",
   "execution_count": 10,
   "metadata": {},
   "outputs": [
    {
     "name": "stdout",
     "output_type": "stream",
     "text": [
      "0.8390243902439024\n"
     ]
    }
   ],
   "source": [
    "print(accuracy_score(y_test,y_pred))"
   ]
  },
  {
   "cell_type": "code",
   "execution_count": 11,
   "metadata": {},
   "outputs": [
    {
     "name": "stdout",
     "output_type": "stream",
     "text": [
      "              precision    recall  f1-score   support\n",
      "\n",
      "           0       0.82      0.93      0.87        90\n",
      "           1       0.75      0.60      0.67        35\n",
      "           2       0.77      0.80      0.78        25\n",
      "           3       0.96      0.77      0.86        31\n",
      "           4       1.00      0.96      0.98        24\n",
      "\n",
      "   micro avg       0.84      0.84      0.84       205\n",
      "   macro avg       0.86      0.81      0.83       205\n",
      "weighted avg       0.84      0.84      0.84       205\n",
      "\n"
     ]
    }
   ],
   "source": [
    "print(classification_report(y_test, y_pred))"
   ]
  },
  {
   "cell_type": "markdown",
   "metadata": {},
   "source": [
    "# Perform cross-validation\n",
    "* Using the entire dataset"
   ]
  },
  {
   "cell_type": "code",
   "execution_count": 10,
   "metadata": {},
   "outputs": [
    {
     "data": {
      "text/plain": [
       "array([0.79710145, 0.76585366, 0.8097561 , 0.81372549, 0.76470588])"
      ]
     },
     "execution_count": 10,
     "metadata": {},
     "output_type": "execute_result"
    }
   ],
   "source": [
    "scores = cross_val_score(clf, image_dataset.hsv_data, image_dataset.annotations, cv=5)\n",
    "scores"
   ]
  },
  {
   "cell_type": "markdown",
   "metadata": {},
   "source": [
    "# Load test data"
   ]
  },
  {
   "cell_type": "code",
   "execution_count": 17,
   "metadata": {},
   "outputs": [],
   "source": [
    "# load all test data; convert them into HSV space and collect hue channel\n",
    "testfiles = glob.glob(\"./data/TestData/*.jpg\")\n",
    "testfiles.sort()\n",
    "Test = [cv2.imread(f) for f in testfiles]\n",
    "Test = np.array([cv2.cvtColor(img, cv2.COLOR_BGR2HSV)[:,:,0].flatten() for img in Test])"
   ]
  },
  {
   "cell_type": "code",
   "execution_count": 18,
   "metadata": {},
   "outputs": [],
   "source": [
    "# making prediction on the test datab\n",
    "yhat_test = clf.predict(Test)"
   ]
  },
  {
   "cell_type": "code",
   "execution_count": 20,
   "metadata": {},
   "outputs": [],
   "source": [
    "# function to turn prediction into one hot coding format\n",
    "def vectorize_result(nclass, j):\n",
    "    \"\"\"\n",
    "    Return a nclass-dimensional unit vector with 1.0 in the j-th position\n",
    "    and zero elsewhere\n",
    "    \"\"\"\n",
    "    e = np.zeros((nclass,1))\n",
    "    e[j] = 1.0\n",
    "    return e"
   ]
  },
  {
   "cell_type": "code",
   "execution_count": 25,
   "metadata": {},
   "outputs": [],
   "source": [
    "# convert test prediction into one hot-coding format\n",
    "encode = [vectorize_result(5, yhat_test[i]) for i in range(yhat_test.shape[0])]\n",
    "pred_df = pd.DataFrame(np.array(encode).reshape((yhat_test.shape[0], 5)).astype(np.uint8))"
   ]
  },
  {
   "cell_type": "code",
   "execution_count": 27,
   "metadata": {},
   "outputs": [],
   "source": [
    "# output prediction\n",
    "pred_df.to_csv(\"prediction.csv\", header=False, index=False)"
   ]
  }
 ],
 "metadata": {
  "kernelspec": {
   "display_name": "mainCV kernel",
   "language": "python",
   "name": "maincv"
  },
  "language_info": {
   "codemirror_mode": {
    "name": "ipython",
    "version": 3
   },
   "file_extension": ".py",
   "mimetype": "text/x-python",
   "name": "python",
   "nbconvert_exporter": "python",
   "pygments_lexer": "ipython3",
   "version": "3.5.6"
  }
 },
 "nbformat": 4,
 "nbformat_minor": 4
}
