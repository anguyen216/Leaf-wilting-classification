{
 "cells": [
  {
   "cell_type": "markdown",
   "metadata": {},
   "source": [
    "# Image Classification Using SVM"
   ]
  },
  {
   "cell_type": "code",
   "execution_count": 2,
   "metadata": {},
   "outputs": [],
   "source": [
    "import numpy as np\n",
    "import cv2\n",
    "from matplotlib import pyplot as plt\n",
    "from skimage import io, exposure\n",
    "import glob\n",
    "import re\n",
    "import pandas as pd\n",
    "from sklearn.utils import Bunch\n",
    "from sklearn.model_selection import train_test_split, cross_val_score\n",
    "from sklearn.metrics import accuracy_score\n",
    "import sklearn.metrics as metrics\n",
    "from sklearn.metrics import classification_report\n",
    "from sklearn.svm import SVC\n",
    "from sklearn.ensemble import RandomForestClassifier"
   ]
  },
  {
   "cell_type": "markdown",
   "metadata": {},
   "source": [
    "## Load data and return a structured dataset"
   ]
  },
  {
   "cell_type": "code",
   "execution_count": 3,
   "metadata": {},
   "outputs": [],
   "source": [
    "train_csv = pd.read_csv(\"./data/TrainAnnotations.csv\")\n",
    "def load_images(path):\n",
    "    files = glob.glob(path + \"*.jpg\")\n",
    "    images = []\n",
    "    hsv_data = []\n",
    "    file_name = []\n",
    "    annotations =[]\n",
    "    \n",
    "    for file in files:\n",
    "        name = re.sub(\"./data/TrainData/\", \"\", file)\n",
    "        image = cv2.imread(file)\n",
    "        hsv = cv2.cvtColor(image, cv2.COLOR_BGR2HSV)[:,:,0]  # extract Hue channel only\n",
    "\n",
    "        for rows in train_csv.iterrows():\n",
    "            if rows[1].file_name == name:\n",
    "                annotation = rows[1].annotation\n",
    "                annotations.append(annotation)\n",
    "        \n",
    "        file_name.append(name)\n",
    "        images.append(image)\n",
    "        hsv_data.append(hsv.flatten())\n",
    "        \n",
    "        \n",
    "        \n",
    "    \n",
    "    file_name = np.array(file_name)\n",
    "    images = np.array(images)\n",
    "    hsv_data = np.array(hsv_data) \n",
    "    annotations = np.array(annotations)\n",
    "    \n",
    "    return Bunch(file_name = file_name,\n",
    "                images = images,\n",
    "                hsv_data = hsv_data,\n",
    "                annotations = annotations)\n",
    "        "
   ]
  },
  {
   "cell_type": "code",
   "execution_count": 4,
   "metadata": {},
   "outputs": [],
   "source": [
    "image_dataset = load_images(\"./data/TrainData/\")"
   ]
  },
  {
   "cell_type": "markdown",
   "metadata": {},
   "source": [
    "## Split Data into Train and Test"
   ]
  },
  {
   "cell_type": "code",
   "execution_count": 62,
   "metadata": {},
   "outputs": [],
   "source": [
    "X_train, X_test, y_train, y_test = train_test_split(\n",
    "    image_dataset.hsv_data, image_dataset.annotations, test_size=0.3,random_state=109)"
   ]
  },
  {
   "cell_type": "code",
   "execution_count": 70,
   "metadata": {},
   "outputs": [
    {
     "name": "stdout",
     "output_type": "stream",
     "text": [
      "(717, 307200)\n",
      "(308, 307200)\n"
     ]
    }
   ],
   "source": [
    "print(X_train.shape)\n",
    "print(X_test.shape)"
   ]
  },
  {
   "cell_type": "markdown",
   "metadata": {},
   "source": [
    "## SVM classifier using Linear, RBF, and Poly kernels"
   ]
  },
  {
   "cell_type": "code",
   "execution_count": 71,
   "metadata": {},
   "outputs": [
    {
     "name": "stderr",
     "output_type": "stream",
     "text": [
      "/Users/anhnguyen/anaconda3/envs/mainCV/lib/python3.5/site-packages/sklearn/svm/base.py:196: FutureWarning: The default value of gamma will change from 'auto' to 'scale' in version 0.22 to account better for unscaled features. Set gamma explicitly to 'auto' or 'scale' to avoid this warning.\n",
      "  \"avoid this warning.\", FutureWarning)\n",
      "/Users/anhnguyen/anaconda3/envs/mainCV/lib/python3.5/site-packages/sklearn/svm/base.py:196: FutureWarning: The default value of gamma will change from 'auto' to 'scale' in version 0.22 to account better for unscaled features. Set gamma explicitly to 'auto' or 'scale' to avoid this warning.\n",
      "  \"avoid this warning.\", FutureWarning)\n",
      "/Users/anhnguyen/anaconda3/envs/mainCV/lib/python3.5/site-packages/sklearn/metrics/classification.py:1143: UndefinedMetricWarning: Precision and F-score are ill-defined and being set to 0.0 in labels with no predicted samples.\n",
      "  'precision', 'predicted', average, warn_for)\n"
     ]
    }
   ],
   "source": [
    "classification_reports = []\n",
    "mods_acc = []\n",
    "for kernel in ('linear', 'poly', 'rbf'):\n",
    "    clf = SVC(kernel=kernel)\n",
    "    clf.fit(X_train, y_train)\n",
    "    # predict test data\n",
    "    y_pred = clf.predict(X_test)\n",
    "    # save diagnostics\n",
    "    classification_reports.append(classification_report(y_test, y_pred))\n",
    "    # save test accuracy\n",
    "    mods_acc.append(accuracy_score(y_test, y_pred))"
   ]
  },
  {
   "cell_type": "markdown",
   "metadata": {},
   "source": [
    "### Linear model results"
   ]
  },
  {
   "cell_type": "code",
   "execution_count": 73,
   "metadata": {},
   "outputs": [
    {
     "name": "stdout",
     "output_type": "stream",
     "text": [
      "0.788961038961039\n",
      "              precision    recall  f1-score   support\n",
      "\n",
      "           0       0.77      0.93      0.84       135\n",
      "           1       0.65      0.57      0.61        56\n",
      "           2       0.79      0.61      0.69        44\n",
      "           3       0.94      0.71      0.81        42\n",
      "           4       0.97      0.94      0.95        31\n",
      "\n",
      "   micro avg       0.79      0.79      0.79       308\n",
      "   macro avg       0.82      0.75      0.78       308\n",
      "weighted avg       0.79      0.79      0.78       308\n",
      "\n"
     ]
    }
   ],
   "source": [
    "print(mods_acc[0])\n",
    "print(classification_reports[0])"
   ]
  },
  {
   "cell_type": "markdown",
   "metadata": {},
   "source": [
    "### Polynomial model results"
   ]
  },
  {
   "cell_type": "code",
   "execution_count": 74,
   "metadata": {},
   "outputs": [
    {
     "name": "stdout",
     "output_type": "stream",
     "text": [
      "0.711038961038961\n",
      "              precision    recall  f1-score   support\n",
      "\n",
      "           0       0.70      0.86      0.77       135\n",
      "           1       0.54      0.45      0.49        56\n",
      "           2       0.62      0.52      0.57        44\n",
      "           3       0.90      0.64      0.75        42\n",
      "           4       0.97      0.90      0.93        31\n",
      "\n",
      "   micro avg       0.71      0.71      0.71       308\n",
      "   macro avg       0.75      0.67      0.70       308\n",
      "weighted avg       0.71      0.71      0.70       308\n",
      "\n"
     ]
    }
   ],
   "source": [
    "print(mods_acc[1])\n",
    "print(classification_reports[1])"
   ]
  },
  {
   "cell_type": "markdown",
   "metadata": {},
   "source": [
    "### RBF model results"
   ]
  },
  {
   "cell_type": "code",
   "execution_count": 75,
   "metadata": {},
   "outputs": [
    {
     "name": "stdout",
     "output_type": "stream",
     "text": [
      "0.4383116883116883\n",
      "              precision    recall  f1-score   support\n",
      "\n",
      "           0       0.44      1.00      0.61       135\n",
      "           1       0.00      0.00      0.00        56\n",
      "           2       0.00      0.00      0.00        44\n",
      "           3       0.00      0.00      0.00        42\n",
      "           4       0.00      0.00      0.00        31\n",
      "\n",
      "   micro avg       0.44      0.44      0.44       308\n",
      "   macro avg       0.09      0.20      0.12       308\n",
      "weighted avg       0.19      0.44      0.27       308\n",
      "\n"
     ]
    }
   ],
   "source": [
    "print(mods_acc[2])\n",
    "print(classification_reports[2])"
   ]
  },
  {
   "cell_type": "markdown",
   "metadata": {},
   "source": [
    "# Random Forest classifier"
   ]
  },
  {
   "cell_type": "code",
   "execution_count": 79,
   "metadata": {},
   "outputs": [],
   "source": [
    "forest_reports = []\n",
    "forest_acc = []\n",
    "for n_estimator in (100, 300, 500, 700):\n",
    "    clf = RandomForestClassifier(n_estimators=n_estimator, \n",
    "                               random_state=109, \n",
    "                               max_features = 'sqrt',\n",
    "                               n_jobs=-1)\n",
    "    clf.fit(X_train, y_train)\n",
    "    \n",
    "    y_pred = clf.predict(X_test)\n",
    "    \n",
    "    forest_reports.append(classification_report(y_test, y_pred))\n",
    "    forest_acc.append(accuracy_score(y_test, y_pred))"
   ]
  },
  {
   "cell_type": "markdown",
   "metadata": {},
   "source": [
    "### forest with 100 trees"
   ]
  },
  {
   "cell_type": "code",
   "execution_count": 80,
   "metadata": {},
   "outputs": [
    {
     "name": "stdout",
     "output_type": "stream",
     "text": [
      "0.6623376623376623\n",
      "              precision    recall  f1-score   support\n",
      "\n",
      "           0       0.65      0.96      0.77       135\n",
      "           1       0.42      0.25      0.31        56\n",
      "           2       0.90      0.20      0.33        44\n",
      "           3       0.67      0.57      0.62        42\n",
      "           4       0.90      0.90      0.90        31\n",
      "\n",
      "   micro avg       0.66      0.66      0.66       308\n",
      "   macro avg       0.71      0.58      0.59       308\n",
      "weighted avg       0.67      0.66      0.62       308\n",
      "\n"
     ]
    }
   ],
   "source": [
    "print(forest_acc[0])\n",
    "print(forest_reports[0])"
   ]
  },
  {
   "cell_type": "markdown",
   "metadata": {},
   "source": [
    "### forest with 300 trees"
   ]
  },
  {
   "cell_type": "code",
   "execution_count": 81,
   "metadata": {},
   "outputs": [
    {
     "name": "stdout",
     "output_type": "stream",
     "text": [
      "0.685064935064935\n",
      "              precision    recall  f1-score   support\n",
      "\n",
      "           0       0.66      0.96      0.78       135\n",
      "           1       0.47      0.25      0.33        56\n",
      "           2       0.91      0.23      0.36        44\n",
      "           3       0.72      0.69      0.71        42\n",
      "           4       0.93      0.90      0.92        31\n",
      "\n",
      "   micro avg       0.69      0.69      0.69       308\n",
      "   macro avg       0.74      0.61      0.62       308\n",
      "weighted avg       0.70      0.69      0.64       308\n",
      "\n"
     ]
    }
   ],
   "source": [
    "print(forest_acc[1])\n",
    "print(forest_reports[1])"
   ]
  },
  {
   "cell_type": "markdown",
   "metadata": {},
   "source": [
    "### forest with 500 trees"
   ]
  },
  {
   "cell_type": "code",
   "execution_count": 82,
   "metadata": {},
   "outputs": [
    {
     "name": "stdout",
     "output_type": "stream",
     "text": [
      "0.6818181818181818\n",
      "              precision    recall  f1-score   support\n",
      "\n",
      "           0       0.65      0.96      0.78       135\n",
      "           1       0.45      0.25      0.32        56\n",
      "           2       1.00      0.23      0.37        44\n",
      "           3       0.76      0.67      0.71        42\n",
      "           4       0.93      0.90      0.92        31\n",
      "\n",
      "   micro avg       0.68      0.68      0.68       308\n",
      "   macro avg       0.76      0.60      0.62       308\n",
      "weighted avg       0.71      0.68      0.64       308\n",
      "\n"
     ]
    }
   ],
   "source": [
    "print(forest_acc[2])\n",
    "print(forest_reports[2])"
   ]
  },
  {
   "cell_type": "markdown",
   "metadata": {},
   "source": [
    "### forest with 700 trees"
   ]
  },
  {
   "cell_type": "code",
   "execution_count": 83,
   "metadata": {},
   "outputs": [
    {
     "name": "stdout",
     "output_type": "stream",
     "text": [
      "0.6753246753246753\n",
      "              precision    recall  f1-score   support\n",
      "\n",
      "           0       0.64      0.96      0.77       135\n",
      "           1       0.43      0.23      0.30        56\n",
      "           2       1.00      0.23      0.37        44\n",
      "           3       0.75      0.64      0.69        42\n",
      "           4       0.93      0.90      0.92        31\n",
      "\n",
      "   micro avg       0.68      0.68      0.68       308\n",
      "   macro avg       0.75      0.59      0.61       308\n",
      "weighted avg       0.70      0.68      0.63       308\n",
      "\n"
     ]
    }
   ],
   "source": [
    "print(forest_acc[3])\n",
    "print(forest_reports[3])"
   ]
  },
  {
   "cell_type": "markdown",
   "metadata": {},
   "source": [
    "# Train SVM linear kernel model (best performing)"
   ]
  },
  {
   "cell_type": "code",
   "execution_count": 84,
   "metadata": {},
   "outputs": [
    {
     "data": {
      "text/plain": [
       "SVC(C=1.0, cache_size=200, class_weight=None, coef0=0.0,\n",
       "  decision_function_shape='ovr', degree=3, gamma='auto_deprecated',\n",
       "  kernel='linear', max_iter=-1, probability=False, random_state=None,\n",
       "  shrinking=True, tol=0.001, verbose=False)"
      ]
     },
     "execution_count": 84,
     "metadata": {},
     "output_type": "execute_result"
    }
   ],
   "source": [
    "clf_opt = SVC(kernel='linear')\n",
    "clf_opt.fit(image_dataset.hsv_data, image_dataset.annotations)"
   ]
  },
  {
   "cell_type": "markdown",
   "metadata": {},
   "source": [
    "### 5-fold cross-validation of the SVM linear model"
   ]
  },
  {
   "cell_type": "code",
   "execution_count": 85,
   "metadata": {},
   "outputs": [
    {
     "data": {
      "text/plain": [
       "array([0.79710145, 0.76585366, 0.8097561 , 0.81372549, 0.76470588])"
      ]
     },
     "execution_count": 85,
     "metadata": {},
     "output_type": "execute_result"
    }
   ],
   "source": [
    "scores = cross_val_score(clf_opt, image_dataset.hsv_data, image_dataset.annotations, cv=5)\n",
    "scores"
   ]
  },
  {
   "cell_type": "code",
   "execution_count": 86,
   "metadata": {},
   "outputs": [
    {
     "data": {
      "text/plain": [
       "0.7902285155843887"
      ]
     },
     "execution_count": 86,
     "metadata": {},
     "output_type": "execute_result"
    }
   ],
   "source": [
    "np.mean(scores)"
   ]
  },
  {
   "cell_type": "markdown",
   "metadata": {},
   "source": [
    "# Plots\n",
    "* various plots to compare model's performance\n",
    "* model performance extracted from classification reports"
   ]
  },
  {
   "cell_type": "code",
   "execution_count": 10,
   "metadata": {},
   "outputs": [
    {
     "data": {
      "image/png": "[encoded data removed]",
      "text/plain": [
       "<Figure size 432x288 with 1 Axes>"
      ]
     },
     "metadata": {
      "needs_background": "light"
     },
     "output_type": "display_data"
    }
   ],
   "source": [
    "# compares full and secondary SVM models\n",
    "# because I don't want to rerun the model; hand-fill the results here\n",
    "forest_acc = [0.6623376623376623, 0.685064935064935, 0.6818181818181818, 0.6753246753246753]\n",
    "mods_acc = [0.788961038961039, 0.711038961038961, 0.4383116883116883]  # SVM models\n",
    "svm_perf = [0.85, 0.85, 0.72]\n",
    "forest_perf = [0.70, 0.70, 0.71, 0.71]\n",
    "ntrees = [100,300,500,700]\n",
    "models = [\"Linear\", \"Polynomial\", \"RBF\"]\n",
    "\n",
    "plt.plot(models, svm_perf, \"b-\", models, mods_acc, \"r-\")\n",
    "plt.title(\"Test accuracy of full and secondary SVM models\")\n",
    "plt.legend((\"Full models\", \"Secondary models\"))\n",
    "plt.show()"
   ]
  },
  {
   "cell_type": "code",
   "execution_count": 11,
   "metadata": {},
   "outputs": [
    {
     "data": {
      "image/png": "[encoded data removed]",
      "text/plain": [
       "<Figure size 432x288 with 1 Axes>"
      ]
     },
     "metadata": {
      "needs_background": "light"
     },
     "output_type": "display_data"
    }
   ],
   "source": [
    "# compare full and secondary random forest models\n",
    "plt.plot(ntrees, forest_perf, \"b-\", ntrees, forest_acc, \"r-\")\n",
    "plt.title(\"Test accuracy of full and secondary random forest models\")\n",
    "plt.legend((\"Full models\", \"Secondary models\"))\n",
    "plt.show()"
   ]
  }
 ],
 "metadata": {
  "kernelspec": {
   "display_name": "mainCV kernel",
   "language": "python",
   "name": "maincv"
  },
  "language_info": {
   "codemirror_mode": {
    "name": "ipython",
    "version": 3
   },
   "file_extension": ".py",
   "mimetype": "text/x-python",
   "name": "python",
   "nbconvert_exporter": "python",
   "pygments_lexer": "ipython3",
   "version": "3.5.6"
  }
 },
 "nbformat": 4,
 "nbformat_minor": 4
}
