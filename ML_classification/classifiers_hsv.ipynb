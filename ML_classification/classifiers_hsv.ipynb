{
 "cells": [
  {
   "cell_type": "markdown",
   "metadata": {},
   "source": [
    "# Image Classification Using SVM and Random Forest"
   ]
  },
  {
   "cell_type": "code",
   "execution_count": 1,
   "metadata": {},
   "outputs": [],
   "source": [
    "import numpy as np\n",
    "import cv2\n",
    "from matplotlib import pyplot as plt\n",
    "from skimage import io\n",
    "import glob\n",
    "import re\n",
    "import pandas as pd\n",
    "from sklearn.utils import Bunch\n",
    "from sklearn.model_selection import train_test_split, cross_val_score\n",
    "from sklearn.metrics import accuracy_score\n",
    "from sklearn.metrics import classification_report\n",
    "from sklearn.svm import SVC\n",
    "from sklearn.ensemble import RandomForestClassifier"
   ]
  },
  {
   "cell_type": "markdown",
   "metadata": {},
   "source": [
    "## Load data and return a structured dataset"
   ]
  },
  {
   "cell_type": "code",
   "execution_count": 2,
   "metadata": {},
   "outputs": [],
   "source": [
    "train_csv = pd.read_csv(\"./data/TrainAnnotations.csv\")\n",
    "def load_images(path):\n",
    "    files = glob.glob(path + \"*.jpg\")\n",
    "    images = []\n",
    "    hsv_data = []\n",
    "    file_name = []\n",
    "    annotations =[]\n",
    "    \n",
    "    for file in files:\n",
    "        name = re.sub(\"./data/TrainData/\", \"\", file)\n",
    "        image = cv2.imread(file)\n",
    "        hsv = cv2.cvtColor(image, cv2.COLOR_BGR2HSV)\n",
    "\n",
    "        for rows in train_csv.iterrows():\n",
    "            if rows[1].file_name == name:\n",
    "                annotation = rows[1].annotation\n",
    "                annotations.append(annotation)\n",
    "        \n",
    "        file_name.append(name)\n",
    "        images.append(image.flatten())\n",
    "        hsv_data.append(hsv.flatten())   \n",
    "    \n",
    "    file_name = np.array(file_name)\n",
    "    images = np.array(images)\n",
    "    hsv_data = np.array(hsv_data) \n",
    "    annotations = np.array(annotations)\n",
    "    \n",
    "    return Bunch(file_name = file_name,\n",
    "                images = images,\n",
    "                hsv_data = hsv_data,\n",
    "                annotations = annotations)      "
   ]
  },
  {
   "cell_type": "code",
   "execution_count": 3,
   "metadata": {},
   "outputs": [],
   "source": [
    "image_dataset = load_images(\"./data/TrainData/\")"
   ]
  },
  {
   "cell_type": "code",
   "execution_count": 5,
   "metadata": {},
   "outputs": [
    {
     "data": {
      "text/plain": [
       "{'file_name': array(['001516.jpg', '000608.jpg', '016718.jpg', ..., '018937.jpg',\n",
       "        '013876.jpg', '013123.jpg'], dtype='<U10'),\n",
       " 'images': array([[251, 255, 254, ..., 109, 197, 184],\n",
       "        [144, 151, 146, ..., 175, 189, 178],\n",
       "        [117, 173, 160, ...,  45,  67,  65],\n",
       "        ...,\n",
       "        [122, 171, 155, ...,  82, 126, 113],\n",
       "        [ 74, 191, 164, ..., 192, 220, 214],\n",
       "        [ 94, 179, 159, ...,  84, 111, 115]], dtype=uint8),\n",
       " 'hsv_data': array([[ 38,   4, 255, ...,  34, 114, 197],\n",
       "        [ 51,  12, 151, ...,  54,  19, 189],\n",
       "        [ 37,  83, 173, ...,  33,  84,  67],\n",
       "        ...,\n",
       "        [ 40,  73, 171, ...,  39,  89, 126],\n",
       "        [ 37, 156, 191, ...,  36,  32, 220],\n",
       "        [ 37, 121, 179, ...,  26,  69, 115]], dtype=uint8),\n",
       " 'annotations': array([1, 3, 0, ..., 0, 0, 2])}"
      ]
     },
     "execution_count": 5,
     "metadata": {},
     "output_type": "execute_result"
    }
   ],
   "source": [
    "image_dataset"
   ]
  },
  {
   "cell_type": "markdown",
   "metadata": {},
   "source": [
    "## Split Data into Train and Test"
   ]
  },
  {
   "cell_type": "code",
   "execution_count": 4,
   "metadata": {},
   "outputs": [],
   "source": [
    "X_train, X_test, y_train, y_test = train_test_split(\n",
    "    image_dataset.hsv_data, image_dataset.annotations, test_size=0.3,random_state=109)"
   ]
  },
  {
   "cell_type": "code",
   "execution_count": 6,
   "metadata": {},
   "outputs": [
    {
     "data": {
      "text/plain": [
       "(717, 921600)"
      ]
     },
     "execution_count": 6,
     "metadata": {},
     "output_type": "execute_result"
    }
   ],
   "source": [
    "X_train.shape"
   ]
  },
  {
   "cell_type": "markdown",
   "metadata": {},
   "source": [
    "## SVM Classifiers Using Linear, Polynomial and RBF Kernels"
   ]
  },
  {
   "cell_type": "code",
   "execution_count": 7,
   "metadata": {},
   "outputs": [],
   "source": [
    "classification_reports = []\n",
    "for kernel in ('linear', 'poly', 'rbf'):\n",
    "    clf = SVC(kernel=kernel)\n",
    "    clf.fit(X_train, y_train)\n",
    "    \n",
    "    y_pred = clf.predict(X_test)\n",
    "    \n",
    "    classification_reports.append(classification_report(y_test, y_pred))"
   ]
  },
  {
   "cell_type": "markdown",
   "metadata": {},
   "source": [
    "## Classification Report for Linear Kernel"
   ]
  },
  {
   "cell_type": "code",
   "execution_count": 8,
   "metadata": {},
   "outputs": [
    {
     "name": "stdout",
     "output_type": "stream",
     "text": [
      "              precision    recall  f1-score   support\n",
      "\n",
      "           0       0.83      0.97      0.89       135\n",
      "           1       0.82      0.57      0.67        56\n",
      "           2       0.85      0.77      0.81        44\n",
      "           3       0.90      0.86      0.88        42\n",
      "           4       0.97      0.97      0.97        31\n",
      "\n",
      "    accuracy                           0.85       308\n",
      "   macro avg       0.87      0.83      0.84       308\n",
      "weighted avg       0.85      0.85      0.85       308\n",
      "\n"
     ]
    }
   ],
   "source": [
    "print(classification_reports[0])"
   ]
  },
  {
   "cell_type": "markdown",
   "metadata": {},
   "source": [
    "## Classification Report for Polynomial Kernel"
   ]
  },
  {
   "cell_type": "code",
   "execution_count": 9,
   "metadata": {},
   "outputs": [
    {
     "name": "stdout",
     "output_type": "stream",
     "text": [
      "              precision    recall  f1-score   support\n",
      "\n",
      "           0       0.84      0.96      0.89       135\n",
      "           1       0.77      0.61      0.68        56\n",
      "           2       0.87      0.77      0.82        44\n",
      "           3       0.85      0.83      0.84        42\n",
      "           4       0.97      0.94      0.95        31\n",
      "\n",
      "    accuracy                           0.85       308\n",
      "   macro avg       0.86      0.82      0.84       308\n",
      "weighted avg       0.85      0.85      0.84       308\n",
      "\n"
     ]
    }
   ],
   "source": [
    "print(classification_reports[1])"
   ]
  },
  {
   "cell_type": "markdown",
   "metadata": {},
   "source": [
    "## Classification Report for RBF Kernel"
   ]
  },
  {
   "cell_type": "code",
   "execution_count": 10,
   "metadata": {},
   "outputs": [
    {
     "name": "stdout",
     "output_type": "stream",
     "text": [
      "              precision    recall  f1-score   support\n",
      "\n",
      "           0       0.67      0.98      0.80       135\n",
      "           1       0.59      0.30      0.40        56\n",
      "           2       1.00      0.30      0.46        44\n",
      "           3       0.76      0.74      0.75        42\n",
      "           4       1.00      0.90      0.95        31\n",
      "\n",
      "    accuracy                           0.72       308\n",
      "   macro avg       0.80      0.64      0.67       308\n",
      "weighted avg       0.75      0.72      0.68       308\n",
      "\n"
     ]
    }
   ],
   "source": [
    "print(classification_reports[2])"
   ]
  },
  {
   "cell_type": "markdown",
   "metadata": {},
   "source": [
    "# Random Forest Classifier"
   ]
  },
  {
   "cell_type": "code",
   "execution_count": 12,
   "metadata": {},
   "outputs": [],
   "source": [
    "classification_reports = []\n",
    "for n_estimator in (100, 300, 500, 700):\n",
    "    clf = RandomForestClassifier(n_estimators=n_estimator, \n",
    "                               random_state=109, \n",
    "                               max_features = 'sqrt',\n",
    "                               n_jobs=-1)\n",
    "    clf.fit(X_train, y_train)\n",
    "    \n",
    "    y_pred = clf.predict(X_test)\n",
    "    \n",
    "    classification_reports.append(classification_report(y_test, y_pred))\n"
   ]
  },
  {
   "cell_type": "markdown",
   "metadata": {},
   "source": [
    "## Classification Report for Random Forest Classifier with 100 Trees"
   ]
  },
  {
   "cell_type": "code",
   "execution_count": 13,
   "metadata": {},
   "outputs": [
    {
     "name": "stdout",
     "output_type": "stream",
     "text": [
      "              precision    recall  f1-score   support\n",
      "\n",
      "           0       0.66      0.97      0.79       135\n",
      "           1       0.55      0.29      0.38        56\n",
      "           2       0.93      0.32      0.47        44\n",
      "           3       0.72      0.67      0.69        42\n",
      "           4       1.00      0.90      0.95        31\n",
      "\n",
      "    accuracy                           0.70       308\n",
      "   macro avg       0.77      0.63      0.66       308\n",
      "weighted avg       0.72      0.70      0.67       308\n",
      "\n"
     ]
    }
   ],
   "source": [
    "print(classification_reports[0])"
   ]
  },
  {
   "cell_type": "markdown",
   "metadata": {},
   "source": [
    "## Classification Report for Random Forest Classifier with 300 Trees"
   ]
  },
  {
   "cell_type": "code",
   "execution_count": 14,
   "metadata": {},
   "outputs": [
    {
     "name": "stdout",
     "output_type": "stream",
     "text": [
      "              precision    recall  f1-score   support\n",
      "\n",
      "           0       0.66      0.99      0.79       135\n",
      "           1       0.50      0.21      0.30        56\n",
      "           2       0.94      0.36      0.52        44\n",
      "           3       0.76      0.67      0.71        42\n",
      "           4       1.00      0.90      0.95        31\n",
      "\n",
      "    accuracy                           0.70       308\n",
      "   macro avg       0.77      0.63      0.65       308\n",
      "weighted avg       0.72      0.70      0.67       308\n",
      "\n"
     ]
    }
   ],
   "source": [
    "print(classification_reports[1])"
   ]
  },
  {
   "cell_type": "markdown",
   "metadata": {},
   "source": [
    "## Classification Report for Random Forest Classifier with 500 Trees"
   ]
  },
  {
   "cell_type": "code",
   "execution_count": 15,
   "metadata": {},
   "outputs": [
    {
     "name": "stdout",
     "output_type": "stream",
     "text": [
      "              precision    recall  f1-score   support\n",
      "\n",
      "           0       0.67      0.99      0.79       135\n",
      "           1       0.52      0.23      0.32        56\n",
      "           2       0.94      0.36      0.52        44\n",
      "           3       0.74      0.67      0.70        42\n",
      "           4       1.00      0.90      0.95        31\n",
      "\n",
      "    accuracy                           0.71       308\n",
      "   macro avg       0.77      0.63      0.66       308\n",
      "weighted avg       0.72      0.71      0.67       308\n",
      "\n"
     ]
    }
   ],
   "source": [
    "print(classification_reports[2])"
   ]
  },
  {
   "cell_type": "markdown",
   "metadata": {},
   "source": [
    "## Classification Report for Random Forest Classifier with 700 Trees"
   ]
  },
  {
   "cell_type": "code",
   "execution_count": 16,
   "metadata": {},
   "outputs": [
    {
     "name": "stdout",
     "output_type": "stream",
     "text": [
      "              precision    recall  f1-score   support\n",
      "\n",
      "           0       0.67      0.99      0.80       135\n",
      "           1       0.54      0.23      0.33        56\n",
      "           2       0.94      0.36      0.52        44\n",
      "           3       0.74      0.67      0.70        42\n",
      "           4       1.00      0.90      0.95        31\n",
      "\n",
      "    accuracy                           0.71       308\n",
      "   macro avg       0.78      0.63      0.66       308\n",
      "weighted avg       0.73      0.71      0.67       308\n",
      "\n"
     ]
    }
   ],
   "source": [
    "print(classification_reports[3])"
   ]
  },
  {
   "cell_type": "markdown",
   "metadata": {},
   "source": [
    "# Training with SVM Linear Kernal (Best Performing Model)"
   ]
  },
  {
   "cell_type": "code",
   "execution_count": 7,
   "metadata": {},
   "outputs": [
    {
     "data": {
      "text/plain": [
       "SVC(C=1.0, cache_size=200, class_weight=None, coef0=0.0,\n",
       "  decision_function_shape='ovr', degree=3, gamma='auto_deprecated',\n",
       "  kernel='linear', max_iter=-1, probability=False, random_state=None,\n",
       "  shrinking=True, tol=0.001, verbose=False)"
      ]
     },
     "execution_count": 7,
     "metadata": {},
     "output_type": "execute_result"
    }
   ],
   "source": [
    "clf_opt = SVC(kernel='linear')\n",
    "clf_opt.fit(image_dataset.hsv_data, image_dataset.annotations)"
   ]
  },
  {
   "cell_type": "markdown",
   "metadata": {},
   "source": [
    "## Perform 5-Fold Cross-Validation on the Entire Dataset"
   ]
  },
  {
   "cell_type": "code",
   "execution_count": 20,
   "metadata": {},
   "outputs": [
    {
     "data": {
      "text/plain": [
       "array([0.87317073, 0.85365854, 0.83414634, 0.81463415, 0.80487805])"
      ]
     },
     "execution_count": 20,
     "metadata": {},
     "output_type": "execute_result"
    }
   ],
   "source": [
    "scores = cross_val_score(clf_opt, image_dataset.hsv_data, image_dataset.annotations, cv=5)\n",
    "scores"
   ]
  },
  {
   "cell_type": "markdown",
   "metadata": {},
   "source": [
    "## Load Test Data"
   ]
  },
  {
   "cell_type": "code",
   "execution_count": 8,
   "metadata": {},
   "outputs": [],
   "source": [
    "testfiles = glob.glob(\"./data/TestData_new/*.jpg\")\n",
    "testfiles.sort()\n",
    "test_images = [cv2.imread(f) for f in testfiles]\n",
    "test_hsv = np.array([cv2.cvtColor(img, cv2.COLOR_BGR2HSV).flatten() for img in test_images])"
   ]
  },
  {
   "cell_type": "markdown",
   "metadata": {},
   "source": [
    "## Predictions on Test Data"
   ]
  },
  {
   "cell_type": "code",
   "execution_count": 10,
   "metadata": {},
   "outputs": [],
   "source": [
    "ypred_test = clf_opt.predict(test_hsv)"
   ]
  },
  {
   "cell_type": "markdown",
   "metadata": {},
   "source": [
    "## Turn Prediction into One-Hot Encoding"
   ]
  },
  {
   "cell_type": "code",
   "execution_count": 11,
   "metadata": {},
   "outputs": [],
   "source": [
    "# Taken from Homework2b\n",
    "def vectorize_result(nclass, j):\n",
    "    \"\"\"\n",
    "    Return a nclass-dimensional unit vector with 1.0 in the j-th position\n",
    "    and zero elsewhere\n",
    "    \"\"\"\n",
    "    e = np.zeros((nclass,1))\n",
    "    e[j] = 1.0\n",
    "    return e"
   ]
  },
  {
   "cell_type": "markdown",
   "metadata": {},
   "source": [
    "## Convert Test Prediction into One-Hot Encoding and Save Predictions"
   ]
  },
  {
   "cell_type": "code",
   "execution_count": 12,
   "metadata": {},
   "outputs": [],
   "source": [
    "encode = [vectorize_result(5, ypred_test[i]) for i in range(ypred_test.shape[0])]\n",
    "pred_df = pd.DataFrame(np.array(encode).reshape((ypred_test.shape[0], 5)).astype(np.uint8))\n",
    "# Save predictions to csv\n",
    "pred_df.to_csv(\"predict.csv\", header=False, index=False)"
   ]
  }
 ],
 "metadata": {
  "kernelspec": {
   "display_name": "mainCV kernel",
   "language": "python",
   "name": "maincv"
  },
  "language_info": {
   "codemirror_mode": {
    "name": "ipython",
    "version": 3
   },
   "file_extension": ".py",
   "mimetype": "text/x-python",
   "name": "python",
   "nbconvert_exporter": "python",
   "pygments_lexer": "ipython3",
   "version": "3.5.6"
  }
 },
 "nbformat": 4,
 "nbformat_minor": 4
}
